{
 "cells": [
  {
   "cell_type": "markdown",
   "id": "aee48247",
   "metadata": {},
   "source": [
    "## Quantifying the \"noise\" at long distances from readings of the ICU20201 sensor"
   ]
  },
  {
   "cell_type": "markdown",
   "id": "304387af",
   "metadata": {},
   "source": [
    "### Step 0: Packages and setup"
   ]
  },
  {
   "cell_type": "code",
   "execution_count": 1,
   "id": "b0959d21",
   "metadata": {},
   "outputs": [],
   "source": [
    "import numpy as np\n",
    "import os\n",
    "\n",
    "freqs = [27.78, 25.64, 12.5, 5.99, 3]\n",
    "dist_mm = 2438.4"
   ]
  },
  {
   "cell_type": "markdown",
   "id": "3c51fa9e",
   "metadata": {},
   "source": [
    "### Step 1: Data processing\n",
    "\n",
    "- Removing unnecessary data from the recordings to isolate just the distance readings at timestamps\n",
    "- Converting to the desired measurement length (mm in this case), as the ICU software records in centimeters by default\n",
    "- Storing in useful data format, and offline"
   ]
  },
  {
   "cell_type": "code",
   "execution_count": null,
   "id": "cdf0fc63",
   "metadata": {},
   "outputs": [],
   "source": [
    "# Step 1.1: Select correct files\n",
    "# Note: Files ending with _algo, and of .txt format seem to contain the raw sensor data from the A-plot\n",
    "# Note: Files ending with .txt are the ones we want to process\n",
    "# Unclear what the .json files are without further research\n",
    "files = []\n",
    "\n",
    "def select_files(root_dir):\n",
    "    for file in os.listdir(root_dir):\n",
    "        if file.endswith('.txt'):\n",
    "            if '_algo' not in file:\n",
    "                yield os.path.join(root_dir, file)"
   ]
  },
  {
   "cell_type": "markdown",
   "id": "3e8632c1",
   "metadata": {},
   "source": [
    "### Step 1.5: Using pre-saved data"
   ]
  },
  {
   "cell_type": "markdown",
   "id": "461f9673",
   "metadata": {},
   "source": [
    "### Step 2: Performing testing"
   ]
  },
  {
   "cell_type": "markdown",
   "id": "4b5c07df",
   "metadata": {},
   "source": [
    "Test 1: Mean and Variance"
   ]
  },
  {
   "cell_type": "markdown",
   "id": "dc8fe66f",
   "metadata": {},
   "source": [
    "Test 2: How consistent the sensor is at a distance (what % of the outputs occur within a set range of the most common \"range\")"
   ]
  },
  {
   "cell_type": "markdown",
   "id": "dd805c32",
   "metadata": {},
   "source": [
    "Test 3: How often the sensor is within a percentage of the true distance"
   ]
  }
 ],
 "metadata": {
  "kernelspec": {
   "display_name": "Python 3",
   "language": "python",
   "name": "python3"
  },
  "language_info": {
   "codemirror_mode": {
    "name": "ipython",
    "version": 3
   },
   "file_extension": ".py",
   "mimetype": "text/x-python",
   "name": "python",
   "nbconvert_exporter": "python",
   "pygments_lexer": "ipython3",
   "version": "3.12.8"
  }
 },
 "nbformat": 4,
 "nbformat_minor": 5
}
